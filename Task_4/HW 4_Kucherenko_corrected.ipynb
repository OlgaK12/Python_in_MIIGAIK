{
 "cells": [
  {
   "cell_type": "markdown",
   "metadata": {},
   "source": [
    "## Домашняя работа 4"
   ]
  },
  {
   "cell_type": "markdown",
   "metadata": {},
   "source": [
    "***В сумме за домашнюю работу вы можете получить 17 баллов.*** <br> \n",
    "***Итоговая оценка будет равна доле полученных баллов от общей суммы x10.*** \n",
    "<p>\n",
    "<font size='3' color=\"B3000C\">Ноутбук (файл в расширением .ipynb) выложите на свой git и пришлите ссылку на почту python.in.miigaik@gmail.com.<br> В теме письма укажите номер домашней работы и номер группы: HW... , Group... .</font>\n",
    "</p>"
   ]
  },
  {
   "cell_type": "markdown",
   "metadata": {},
   "source": [
    "### Задача 1 «Длина отрезка»   (1 балл)\n",
    "Пользователь с клавиатуры вводит четыре действительных числа: x1, y1, x2, y2. Напишите функцию distance(x1, y1, x2, y2), вычисляющая расстояние между точкой (x1,y1) и (x2,y2). \n",
    "<img src=\"http://www.codecogs.com/gif.latex?d=\\sqrt{(x_2-x_1)^2+(y_2-y_1)^2}\">"
   ]
  },
  {
   "cell_type": "code",
   "execution_count": 2,
   "metadata": {},
   "outputs": [
    {
     "name": "stdout",
     "output_type": "stream",
     "text": [
      "1\n",
      "2\n",
      "3\n",
      "4\n"
     ]
    },
    {
     "data": {
      "text/plain": [
       "2.8284271247461903"
      ]
     },
     "execution_count": 2,
     "metadata": {},
     "output_type": "execute_result"
    }
   ],
   "source": [
    "def distance (x1, y1, x2, y2):\n",
    "    d=((x2-x1)**2+(y2-y1)**2)**0.5\n",
    "    return d\n",
    "distance(int(input()), int(input()), int(input()), int(input()))"
   ]
  },
  {
   "cell_type": "markdown",
   "metadata": {},
   "source": [
    "### Задача 2 (2 балла)\n",
    "Вам дается два списка строк. Будем рассматривать следующие разности:  $$|len(a) - len(b)|,$$ где a - элемент из первого списка, а b - из второго. <br>\n",
    "Напишите функцию, которая возвращает наибольшую такую разность.\n",
    "На вход такой функции подается два списка строк.\n",
    "\n",
    "** Подсказка **\n",
    "abs() - функция нахождения модуля."
   ]
  },
  {
   "cell_type": "code",
   "execution_count": null,
   "metadata": {
    "collapsed": true
   },
   "outputs": [],
   "source": [
    "first_list = ['Ночь', 'улица', 'фонарь', 'аптека', 'Бессмысленный', 'и', 'тусклый', 'свет']\n",
    "second_list = ['Живи', 'еще', 'хоть', 'четверть', 'века', 'Все', 'будет', 'так', 'Исхода', 'нет']"
   ]
  },
  {
   "cell_type": "code",
   "execution_count": 6,
   "metadata": {},
   "outputs": [
    {
     "data": {
      "text/plain": [
       "10"
      ]
     },
     "execution_count": 6,
     "metadata": {},
     "output_type": "execute_result"
    }
   ],
   "source": [
    "def difference ():\n",
    "    first_list = ['Ночь', 'улица', 'фонарь', 'аптека', 'Бессмысленный', 'и', 'тусклый', 'свет']\n",
    "    second_list = ['Живи', 'еще', 'хоть', 'четверть', 'века', 'Все', 'будет', 'так', 'Исхода', 'нет']\n",
    "    list_new=[]\n",
    "    for i in range (len(first_list)):\n",
    "        for j in range (len(second_list)):\n",
    "            list_new.append(abs(len(first_list[i])-len(second_list[j])))\n",
    "    return (max(list_new))\n",
    "difference()"
   ]
  },
  {
   "cell_type": "markdown",
   "metadata": {},
   "source": [
    "### Задача 3 (1 балл)\n",
    "Вам дается строка в которой присутвуют подряд идущие одинаковые символы. Напишите функцию, которая принимает строку и возвращает ее в \"нормальном\" виде: то есть из подряд идущих одинаковых символов оставляет только один.\n",
    "\n",
    "**Пример **<br>\n",
    "'Привеееееееет!!! Я тттвоя новаяяя стррока)))))' -> 'Привет! Я твоя новая строка)'\n"
   ]
  },
  {
   "cell_type": "code",
   "execution_count": 11,
   "metadata": {},
   "outputs": [
    {
     "name": "stdout",
     "output_type": "stream",
     "text": [
      "ПППривеееееееет!!! Я тттвоя новаяяя стррока)))))\n"
     ]
    },
    {
     "data": {
      "text/plain": [
       "'Привет! Я твоя новая строка)'"
      ]
     },
     "execution_count": 11,
     "metadata": {},
     "output_type": "execute_result"
    }
   ],
   "source": [
    "def norm(s):\n",
    "    list=[]\n",
    "    list.append(s[0])\n",
    "    for i in range(1,len(s)):\n",
    "        if s[i]!=s[i-1]:\n",
    "            list.append(s[i])\n",
    "    return(''.join(list))\n",
    "norm(input())"
   ]
  },
  {
   "cell_type": "markdown",
   "metadata": {},
   "source": [
    "### Задача 4 (1 балл)\n",
    "Напишите функцию, на вход которой подается строка и которая должна вернуть строку - часть алфавита, в которой буква будет заглавной, если ее не было в строке,  и маленькой, если она была в строке. При этом нужно вывести ту часть алфавита, которая начинается с первого символа присутствующего в строке и заканчивается также символом присутствующем в строке.\n",
    "\n",
    "** Подсказка**<br>\n",
    "Чтобы не писать алфавиты вручную, воспользуйтесь функциями ord() и chr()? кторые по заданным символам или номерам, соответственно, выводят символ или его номер.<br>\n",
    "ord('a') == 97, chr(97) == 'a'\n",
    "\n",
    "**Пример**<br>\n",
    "***Вход***<br>\n",
    "\"holly\"<br>\n",
    "***Выход***<br>\n",
    "\"hIJKMNPQRSTUVWXZoPQRSTUVWXZlMNPQRSTUVWXZly\""
   ]
  },
  {
   "cell_type": "code",
   "execution_count": 55,
   "metadata": {},
   "outputs": [
    {
     "name": "stdout",
     "output_type": "stream",
     "text": [
      "holly\n"
     ]
    },
    {
     "data": {
      "text/plain": [
       "'hIJKMNPQRSTUVWXZoPQRSTUVWXZlMNPQRSTUVWXZlMNPQRSTUVWXZy'"
      ]
     },
     "execution_count": 55,
     "metadata": {},
     "output_type": "execute_result"
    }
   ],
   "source": [
    "def result(b):\n",
    "    c=[]\n",
    "    import string\n",
    "    a=string.ascii_uppercase\n",
    "    for i in range(len(b)-1):\n",
    "        c.append(b[i])\n",
    "        for j in range (len(a)):\n",
    "            if b[i].upper()==a[j]:\n",
    "                c.append(a[j+1:])\n",
    "    c.append(b[-1])\n",
    "    d=''.join(c)\n",
    "    for i in range (len(b)):\n",
    "        if d.count(b[i].upper())!=0:\n",
    "            for j in range (d.count(b[i].upper())):\n",
    "                d=d.replace(b[i].upper(),'')\n",
    "    return (d)\n",
    "result(input())"
   ]
  },
  {
   "cell_type": "markdown",
   "metadata": {},
   "source": [
    "### Задача 5 (2 балла)\n",
    "Напишите функцию - кассовый аппарат, на вход которой подается содержимое кассы в виде словаря, где ключи - номиналы купюр, а значения - количества купюр данного номинала, находящиеся в кассе. Также на вход функции подается число - сдача, которую необходимо выдать из кассы. Если в кассе найдется такой набор купюр, чтобы выдать запрошенную сдачу - функция должна вернть True, если нет - False.<br>\n",
    "Купюры могут быть номиналом только 25, 50 и 100.\n",
    "\n",
    "**Пример** <br>\n",
    "cashbox = {25:1, 50:2, 100:1} <br>\n",
    "give_change(cashbox, 300) -> False  <br>\n",
    "give_change(cashbox, 75) -> True <br>\n",
    "give_change(cashbox, 0) -> True  <br>"
   ]
  },
  {
   "cell_type": "code",
   "execution_count": 78,
   "metadata": {},
   "outputs": [
    {
     "name": "stdout",
     "output_type": "stream",
     "text": [
      "Введите количество купюр номиналом 25:1\n",
      "Введите количество купюр номиналом 50:1\n",
      "Введите количество купюр номиналом 100:1\n",
      "Сдача:25\n"
     ]
    },
    {
     "data": {
      "text/plain": [
       "True"
      ]
     },
     "execution_count": 78,
     "metadata": {},
     "output_type": "execute_result"
    }
   ],
   "source": [
    "def give_change(cashbox, c):\n",
    "    x=0\n",
    "    for k,v in cashbox.items():\n",
    "        x=x+k*v\n",
    "    if x<c:\n",
    "        y=False\n",
    "    else:\n",
    "        if int(c/25)!=c/25:\n",
    "            y=False\n",
    "        else:\n",
    "            if c%50>=25 and cashbox.get(25)==0:\n",
    "                y=False\n",
    "            else:\n",
    "                if c%100>=50 and cashbox.get(50)+cashbox.get(25)/2<1:\n",
    "                    y=False\n",
    "                else:\n",
    "                    y=True\n",
    "    return y\n",
    "cashbox={}\n",
    "cashbox[25]=int(input('Введите количество купюр номиналом 25:'))\n",
    "cashbox[50]=int(input('Введите количество купюр номиналом 50:'))\n",
    "cashbox[100]=int(input('Введите количество купюр номиналом 100:'))\n",
    "\n",
    "give_change(cashbox,int(input('Сдача:')))"
   ]
  },
  {
   "cell_type": "markdown",
   "metadata": {},
   "source": [
    "### Задача 6 (1 балл)\n",
    "Иннокентий работает кассиром в кинотеатре. Билет на любой фильм стоит 25.**-** В кассу выстроилась очередь, у всех купюры номиналом 25, 50 или 100.**-**. В кинотеатре правило: 1 билет в одни руки. У Кеши пустая касса. Сможет ли он обслужить всех людей из очереди (то есть своевременно выдать каждому сдачу)? Люди в очереди местами не меняются.\n",
    "\n",
    "Напишите функцию, на вход которой подается очередь (список из купюр, которые каждый посетитель собирается отдать) и которая возвращает True - если Кеша сможет всех обслужить и False - если нет. <br>\n",
    "P.s. очередь может быть любой длины. <br>\n",
    "P.p.s. используете функцию - кассовый аппарат, который вы написали в прошлом задании. \n",
    "\n",
    "**Пример **<br>\n",
    "Kesha(25, 25, 50) -> True<br>\n",
    "Kesha(25, 100) -> False<br>\n",
    "Kesha(25, 25, 50, 50, 100) -> False<br>"
   ]
  },
  {
   "cell_type": "code",
   "execution_count": 116,
   "metadata": {},
   "outputs": [
    {
     "data": {
      "text/plain": [
       "[False, {25: 1, 50: 0, 100: 0}]"
      ]
     },
     "execution_count": 116,
     "metadata": {},
     "output_type": "execute_result"
    }
   ],
   "source": [
    "cashbox = {25:0, 50:0, 100:0} \n",
    "def Kesha (*queue):\n",
    "    y=True\n",
    "    for i in range (len(queue)):\n",
    "        y=give_change(cashbox,queue[i]-25)\n",
    "        if y==False:\n",
    "            return [y,cashbox]\n",
    "        else:\n",
    "            cashbox[queue[i]]=cashbox[queue[i]]+1\n",
    "            if queue[i]==50:\n",
    "                cashbox[25]=cashbox[25]-1\n",
    "            if queue[i]==100 and cashbox[50]==0:\n",
    "                cashbox[25]=cashbox[25]-3\n",
    "            if queue[i]==100 and cashbox[50]>0:\n",
    "                cashbox[50]=cashbox[50]-1\n",
    "                cashbox[25]=cashbox[25]-1\n",
    "    return [y,cashbox]\n",
    "Kesha(25, 100)"
   ]
  },
  {
   "cell_type": "markdown",
   "metadata": {},
   "source": [
    "#### Задача 7 Кегельбан (2 балла)\n",
    "N кеглей выставили в один ряд, занумеровав их слева направо числами от 1 до N. Затем по этому ряду бросили K шаров, при этом i-й шар сбил все кегли с номерами от li до ri включительно. <br>\n",
    "Напишите функцию, которая получает на вход количество кеглей N и количество бросков K, и возвращает последовательность из N символов, где j-й символ есть \"I\", если j-я кегля осталась стоять, или \".\", если j-я кегля была сбита.<br>\n",
    "Броски происходят внутри функции.\n",
    "\n",
    "**Примеры**<br>\n",
    "***Вход***<br>\n",
    "20 3<br>\n",
    "*броски*<br>\n",
    "3 8<br>\n",
    "13 17<br>\n",
    "6 9<br>\n",
    "***Выход***<br>\n",
    "II.......III.....III\n",
    "\n",
    "\n",
    "***Вход*** <br>\n",
    "5 0<br>\n",
    "***Выход*** <br>\n",
    "IIIII"
   ]
  },
  {
   "cell_type": "code",
   "execution_count": null,
   "metadata": {},
   "outputs": [],
   "source": [
    "def kegl(t):\n",
    "    a='l'*t[0]\n",
    "    if t[1]>0:\n",
    "        for i in range(t[1]):\n",
    "            r=[int(c) for c in input().split()]\n",
    "            a=a[:r[0]-1]+'.'*(r[1]-r[0]+1)+a[r[1]:]\n",
    "    return a;\n",
    "t=input().split()\n",
    "for i in range (len(t)):\n",
    "    t[i]=int(t[i])\n",
    "kegl(t)"
   ]
  },
  {
   "cell_type": "markdown",
   "metadata": {},
   "source": [
    "# Задача 8 Записная книжка (3 балла)\n",
    "Раньше Ева вела записную книжку хаотично - имена, адреса, номера были перемешаны в строке, но при этом в одной строке записана информация только об одном человеке. Ваша задача написать функцию, которая содержимое книжки переведет словарь со структурой, приведенной в примере. <br>\n",
    "При этом содержимое книжки подается в виде одного элемента типа строка: строчки записной книжки разделяются символом переноса строки \"\\n\", ФИО человека заключено в елочки: <>, номер обязтельно начинается с +, остальное является адресом, элементы отделяются друг от друга двумя пробелами, адрес может быть написан с разрывом. При этом Ева иногда в записях делала пометки в виде \"?\" и \"!\". Эти пометки не должны войти в конечный словарь.\n",
    "\n",
    "**Пример**<br>"
   ]
  },
  {
   "cell_type": "code",
   "execution_count": 3,
   "metadata": {},
   "outputs": [
    {
     "data": {
      "text/plain": [
       "{'Рождественский Р.': {'adress': ' 156 Мосфильмовская 34, ',\n",
       "  'number': '+1-541-754-3010'},\n",
       " 'Воронцов Михаил': {'adress': ' ул. Большая Полянка, Москва ',\n",
       "  'number': '+7-923-911-2134'},\n",
       " 'Кужим': {'adress': ' Санкт-Петербург, ул.Свободы, дом 1',\n",
       "  'number': '+34-3145-3245'}}"
      ]
     },
     "execution_count": 3,
     "metadata": {},
     "output_type": "execute_result"
    }
   ],
   "source": [
    "def norm(s):\n",
    "    list=[]\n",
    "    list.append(s[0])\n",
    "    for i in range(1,len(s)):\n",
    "        if s[i]!=s[i-1]:\n",
    "            list.append(s[i])\n",
    "    return(''.join(list))\n",
    "s = '''+1-541-754-3010 156?!  Мосфильмовская 34,  <Рождественский Р.>\\n  ул. Большая Полянка, <Воронцов Михаил>  Москва!  +7-923-911-2134\\n<Кужим>  Санкт-Петербург, ул.Свободы,  +34-3145-3245  ?дом 1'''\n",
    "def parse_str(s):\n",
    "    a=[]\n",
    "    b={}\n",
    "    s=s.split('\\n')\n",
    "    for i in range(len(s)):\n",
    "        for j in range(s[i].count('?')):\n",
    "            s[i]=s[i].replace('?', '')\n",
    "        for j in range(s[i].count('!')):\n",
    "            s[i]=s[i].replace('!', '')\n",
    "            \n",
    "        name=s[i][s[i].find('<')+1:s[i].find('>')]\n",
    "        if s[i][s[i].find('+'):].find(' ')==-1:\n",
    "            phone=s[i][s[i].find('+'):]\n",
    "        else:\n",
    "            phone=s[i][s[i].find('+'):s[i].find('+')+s[i][s[i].find('+'):].find(' ')]\n",
    "        a.append(name+phone)\n",
    "        s[i]=s[i].replace(phone, '')\n",
    "        s[i]=s[i].replace('<'+name+'>', '')\n",
    "        s[i]=norm(s[i])\n",
    "        b[name]={'adress':s[i], 'number': phone}\n",
    "    return b\n",
    "\n",
    "d = parse_str(s)     \n",
    "d"
   ]
  },
  {
   "cell_type": "markdown",
   "metadata": {},
   "source": [
    "### Задача 9  «Диагонали, параллельные главной» (1 балл)\n",
    "На вход функции подается число n. Функция должна создать массив $n\\times n$ и заполнить его по следующему правилу. На главной диагонали должны быть записаны числа 0. На двух диагоналях, прилегающих к главной, числа 1. На следующих двух диагоналях числа 2, и т.д.\n",
    "\n",
    "**Пример**<br>\n",
    "***Вход***<br>\n",
    "5<br>\n",
    "***Выход***\t<br>\n",
    "0 1 2 3 4<br>\n",
    "1 0 1 2 3<br>\n",
    "2 1 0 1 2<br>\n",
    "3 2 1 0 1<br>\n",
    "4 3 2 1 0<br>"
   ]
  },
  {
   "cell_type": "code",
   "execution_count": 20,
   "metadata": {},
   "outputs": [
    {
     "name": "stdout",
     "output_type": "stream",
     "text": [
      "5\n",
      "0 1 2 3 4\n",
      "1 0 1 2 3\n",
      "2 1 0 1 2\n",
      "3 2 1 0 1\n",
      "4 3 2 1 0\n"
     ]
    }
   ],
   "source": [
    "# решение\n",
    "def a(n):\n",
    "    b=[]\n",
    "    for i in range(n):\n",
    "        b.append([])\n",
    "        for j in range(n):\n",
    "            b[i].append(abs(j-i))\n",
    "        print(*b[i])\n",
    "    return\n",
    "a(int(input()))\n"
   ]
  },
  {
   "cell_type": "markdown",
   "metadata": {},
   "source": [
    "### Задача 10 Числа Фибоначчи (3 балла)\n",
    "Напишите функцию fib(n), которая по данному целому неотрицательному n возвращает n-e число Фибоначчи. В этой задаче нельзя использовать циклы — используйте рекурсию."
   ]
  },
  {
   "cell_type": "code",
   "execution_count": 19,
   "metadata": {},
   "outputs": [
    {
     "data": {
      "text/plain": [
       "34"
      ]
     },
     "execution_count": 19,
     "metadata": {},
     "output_type": "execute_result"
    }
   ],
   "source": [
    "# решение\n",
    "def fib(n):\n",
    "    if n<4 and n>0:\n",
    "        return n\n",
    "    else:\n",
    "        global l, a, b\n",
    "        l=l+1\n",
    "        c=a+b\n",
    "        a=b\n",
    "        b=c\n",
    "        if l==n:\n",
    "            return c\n",
    "        else:\n",
    "            return fib(n)\n",
    "a=2\n",
    "b=3\n",
    "l=3\n",
    "fib(8)"
   ]
  },
  {
   "cell_type": "markdown",
   "metadata": {},
   "source": [
    "#### Обратная связь"
   ]
  },
  {
   "cell_type": "markdown",
   "metadata": {},
   "source": [
    "Пожалуйста, пройдите [анкету](https://goo.gl/forms/IeIO2lVd9iY7GN4v2) и оставьте свои впечатления от домашней работы / лекции. Мы очень хотим стать для вас лучше)))"
   ]
  }
 ],
 "metadata": {
  "anaconda-cloud": {},
  "kernelspec": {
   "display_name": "Python 3",
   "language": "python",
   "name": "python3"
  },
  "language_info": {
   "codemirror_mode": {
    "name": "ipython",
    "version": 3
   },
   "file_extension": ".py",
   "mimetype": "text/x-python",
   "name": "python",
   "nbconvert_exporter": "python",
   "pygments_lexer": "ipython3",
   "version": "3.6.5"
  }
 },
 "nbformat": 4,
 "nbformat_minor": 2
}
